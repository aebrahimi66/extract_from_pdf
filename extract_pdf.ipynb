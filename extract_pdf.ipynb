{
  "cells": [
    {
      "cell_type": "code",
      "execution_count": null,
      "metadata": {},
      "outputs": [],
      "source": [
        "!pip install PyPDF2"
      ]
    },
    {
      "cell_type": "code",
      "execution_count": null,
      "metadata": {
        "id": "uC6OT11oY8UW"
      },
      "outputs": [],
      "source": [
        "import re\n",
        "import pandas as pd\n",
        "import PyPDF2\n",
        "import os\n",
        "from PyPDF2 import PdfReader"
      ]
    },
    {
      "cell_type": "code",
      "execution_count": null,
      "metadata": {
        "id": "JNkK39iiylnn"
      },
      "outputs": [],
      "source": [
        "def outdf(text):\n",
        "  info_dict = {}\n",
        "  #  استخراج نام خانوادگی\n",
        "  fname_match = re.search(r'(.*)(?=\\,)', text, re.MULTILINE)\n",
        "  if fname_match:\n",
        "    info_dict['Family Name'] = fname_match.group(0).strip()\n",
        "\n",
        "  #استخراج نام\n",
        "  name_match = re.search(r'(?<=\\,)(.*)$', text, re.MULTILINE)\n",
        "  if name_match:\n",
        "    info_dict['Name'] = name_match.group(0).strip()\n",
        "\n",
        "  # استخراج مدرک تحصیلی\n",
        "  pattern = r'\\b(BA|BS|MA|MD|PhD|MS|Associate’s degree|[Cc]lerical education|High school diploma)\\b'\n",
        "  education_match = re.findall(pattern, text)\n",
        "  if education_match:\n",
        "   info_dict['Education'] = education_match[-1]\n",
        "\n",
        "  # Birth Date\n",
        "  pattern = r'(\\d{4}–)\\d{4},|(19[0-7]\\d–,)|(\\w+\\s\\d,\\s\\d{4}–,)|(19[0-7]\\d–\\w+\\s\\d)|((19[0-7]\\d–\\w+\\s\\d{2}))'\n",
        "  birth_date_match = re.search(pattern, text)\n",
        "  if birth_date_match:\n",
        "   info_dict['Birth Date'] = birth_date_match.group(1)\n",
        "   if info_dict['Birth Date'] == None:\n",
        "      info_dict['Birth Date'] = birth_date_match.group(0).strip()\n",
        "\n",
        "  #Elite occupation(s), titles, and years of service\n",
        "  #a = info_dict['Name']\n",
        "  #b = education_match[0]\n",
        "  #c = info_dict['Birth Date']\n",
        "  #pattern = rf\"(?<={a}\\s)((.|\\n)*)\\s(?={info_dict['Birth Date']})\"\n",
        "  #occu_match = re.search(pattern, text)\n",
        "  #if occu_match:\n",
        "      #info_dict['Elite occupation ...'] = occu_match.group().strip()\n",
        "\n",
        "  #Year of Death\n",
        "  pattern = r\"–([12]\\d{3},)|\\s([12]\\d{3}),\"\n",
        "  death_date_match = re.search(pattern, text)\n",
        "  if death_date_match:\n",
        "      info_dict[' years of death'] = death_date_match.group(0)[1:5]\n",
        "  else:\n",
        "      info_dict[' years of death'] = 'is living'\n",
        "\n",
        "  # City and province of birth\n",
        "  pattern_1 = r\"((?<=(19[0-7]\\d–,)\\s)(.*))\"\n",
        "  pattern_2 = rf\"((?<={info_dict[' years of death']},\\s)(.*))\"\n",
        "\n",
        "  if info_dict[' years of death'] == 'is living':\n",
        "      location_match = re.search(pattern_1, text)\n",
        "      if location_match:\n",
        "          info_dict['City and province of birth'] = location_match.group()\n",
        "  else:\n",
        "      location_match = re.search(pattern_2, text)\n",
        "      if location_match:\n",
        "         info_dict['City and province of birth'] = location_match.group()\n",
        "\n",
        "  # ایجاد DataFrame\n",
        "  df = pd.DataFrame([info_dict])\n",
        "  return df\n",
        "  #df.loc[len(df)] = info_dict\n",
        "  # ذخیره به فرمت Excel\n",
        "  #df.to_excel('pe.xlsx', index=False)"
      ]
    },
    {
      "cell_type": "code",
      "execution_count": null,
      "metadata": {
        "id": "3WQ5NprFp1H_"
      },
      "outputs": [],
      "source": [
        "pdf_file = open('/content/drive/MyDrive/politic.pdf', 'rb')"
      ]
    },
    {
      "cell_type": "code",
      "execution_count": null,
      "metadata": {
        "id": "oww4bYVnhcLP"
      },
      "outputs": [],
      "source": [
        "pdf_reader = PyPDF2.PdfReader(pdf_file)"
      ]
    },
    {
      "cell_type": "code",
      "execution_count": null,
      "metadata": {
        "colab": {
          "base_uri": "https://localhost:8080/"
        },
        "id": "-fkjCp4hhvso",
        "outputId": "1de37f12-eaa4-47ed-da4d-212b10a88b14"
      },
      "outputs": [
        {
          "data": {
            "text/plain": [
              "892"
            ]
          },
          "execution_count": 24,
          "metadata": {},
          "output_type": "execute_result"
        }
      ],
      "source": [
        "len(pdf_reader.pages)"
      ]
    },
    {
      "cell_type": "code",
      "execution_count": null,
      "metadata": {
        "id": "w_e6EGVek9Ku"
      },
      "outputs": [],
      "source": [
        "txt = ''\n",
        "for i in range(501):\n",
        "    page_obj = pdf_reader.pages[390+i]\n",
        "    aaa = page_obj.extract_text()\n",
        "    txt += aaa"
      ]
    },
    {
      "cell_type": "code",
      "execution_count": null,
      "metadata": {
        "colab": {
          "base_uri": "https://localhost:8080/"
        },
        "id": "4z-isNd-3rtd",
        "outputId": "c4842423-02e2-4307-dcb2-33da44827cdb"
      },
      "outputs": [
        {
          "data": {
            "text/plain": [
              "1866"
            ]
          },
          "execution_count": 26,
          "metadata": {},
          "output_type": "execute_result"
        }
      ],
      "source": [
        "#paragraph\n",
        "text = txt\n",
        "parag = text.split('.\\n')\n",
        "len(parag)"
      ]
    },
    {
      "cell_type": "code",
      "execution_count": null,
      "metadata": {},
      "outputs": [],
      "source": [
        "text1 = \"\"\"\n",
        "Zeynali, Seyyed Mohammad-Hoseyn\n",
        "Deputy of the Fourth Majlis, Birjand, South Khorasan\n",
        "(1992–96)\n",
        "1951–, Birjand, South Khorasan\n",
        "High school diploma\n",
        "Seyyed Mohammad-Baqer\n",
        "Governor of Birjand and Qaenat, South Khorasan\n",
        "No imprisonment\n",
        "After serving in the Majlis, Zeynali became active as\n",
        "an entrepreneur in the private sector and was in\n",
        "charge of the Kavir Tire Company for many years.\n",
        "\"\"\""
      ]
    },
    {
      "cell_type": "code",
      "execution_count": null,
      "metadata": {},
      "outputs": [],
      "source": [
        "n = outdf(text1)"
      ]
    },
    {
      "cell_type": "code",
      "execution_count": null,
      "metadata": {
        "id": "a9aSsgs-6-fe"
      },
      "outputs": [],
      "source": [
        "for i in range(1863):\n",
        "\n",
        "  m =outdf(parag[i+2])\n",
        "  n = pd.concat([n, m])\n"
      ]
    },
    {
      "cell_type": "code",
      "execution_count": null,
      "metadata": {
        "colab": {
          "base_uri": "https://localhost:8080/"
        },
        "id": "7CRExt0rlJAW",
        "outputId": "4da46b7f-1b53-466f-c03b-500cee0cf05e"
      },
      "outputs": [
        {
          "name": "stdout",
          "output_type": "stream",
          "text": [
            "Collecting openpyxl\n",
            "  Downloading openpyxl-3.1.5-py2.py3-none-any.whl.metadata (2.5 kB)\n",
            "Collecting et-xmlfile (from openpyxl)\n",
            "  Downloading et_xmlfile-1.1.0-py3-none-any.whl.metadata (1.8 kB)\n",
            "Downloading openpyxl-3.1.5-py2.py3-none-any.whl (250 kB)\n",
            "\u001b[2K   \u001b[90m━━━━━━━━━━━━━━━━━━━━━━━━━━━━━━━━━━━━━━━━\u001b[0m \u001b[32m250.9/250.9 kB\u001b[0m \u001b[31m2.7 MB/s\u001b[0m eta \u001b[36m0:00:00\u001b[0m\n",
            "\u001b[?25hDownloading et_xmlfile-1.1.0-py3-none-any.whl (4.7 kB)\n",
            "Installing collected packages: et-xmlfile, openpyxl\n",
            "Successfully installed et-xmlfile-1.1.0 openpyxl-3.1.5\n"
          ]
        }
      ],
      "source": [
        "!pip install openpyxl"
      ]
    },
    {
      "cell_type": "code",
      "execution_count": null,
      "metadata": {
        "id": "0kTQEaW0lS1-"
      },
      "outputs": [],
      "source": [
        "from openpyxl import Workbook"
      ]
    },
    {
      "cell_type": "code",
      "execution_count": null,
      "metadata": {
        "id": "5HH5QozgkUyQ"
      },
      "outputs": [],
      "source": [
        "df = pd.DataFrame([info_dict])\n",
        "n.to_excel('pol.xlsx', index=False)"
      ]
    }
  ],
  "metadata": {
    "accelerator": "TPU",
    "colab": {
      "gpuType": "V28",
      "provenance": []
    },
    "kernelspec": {
      "display_name": "Python 3",
      "name": "python3"
    },
    "language_info": {
      "name": "python"
    }
  },
  "nbformat": 4,
  "nbformat_minor": 0
}
